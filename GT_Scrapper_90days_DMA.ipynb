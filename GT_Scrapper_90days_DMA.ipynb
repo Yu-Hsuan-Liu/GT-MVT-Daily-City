{
 "cells": [
  {
   "cell_type": "code",
   "execution_count": null,
   "id": "9b46170d",
   "metadata": {},
   "outputs": [],
   "source": [
    "import time\n",
    "from datetime import datetime, timedelta\n",
    "from dateutil.relativedelta import *\n",
    "import pandas as pd\n",
    "import os\n",
    "import csv\n",
    "from pytrends.request import TrendReq\n",
    "from scipy.stats import pearsonr\n",
    "import numpy as np\n",
    "import re\n",
    "import pytrends\n",
    "import bash\n",
    "import random\n",
    "import pdb\n",
    "import calendar\n",
    "import requests\n",
    "from requests.exceptions import Timeout\n",
    "from pytrends.exceptions import ResponseError\n",
    "from torpy.circuit import  CellTimeoutError"
   ]
  },
  {
   "cell_type": "code",
   "execution_count": 2,
   "id": "26b226d2",
   "metadata": {},
   "outputs": [],
   "source": [
    "def init():\n",
    "    #https://pypi.org/project/torpy/\n",
    "    #pip install torpy\n",
    "    from torpy import TorClient\n",
    "    hostname = 'ifconfig.me'  # It's possible use onion hostname here as well\n",
    "    with TorClient() as tor:\n",
    "        # Choose random guard node and create 3-hops circuit\n",
    "        with tor.create_circuit(3) as circuit:\n",
    "            # Create tor stream to host\n",
    "            with circuit.create_stream((hostname, 80)) as stream:\n",
    "                # Now we can communicate with host\n",
    "                stream.send(b'GET / HTTP/1.0\\r\\nHost: %s\\r\\n\\r\\n' % hostname.encode())\n",
    "                recv = stream.recv(1024)\n",
    "    return 0"
   ]
  },
  {
   "cell_type": "code",
   "execution_count": 3,
   "id": "eecf1545",
   "metadata": {},
   "outputs": [],
   "source": [
    "def column_name_to_mvt_and_remove_zero_values(df, geo_name):\n",
    "    df.rename(columns={df.columns[0]: f\"MVT_GT_{geo_name}\" }, inplace = True)\n",
    "    df = df[df[f\"MVT_GT_{geo_name}\"] != 0]\n",
    "    return df"
   ]
  },
  {
   "cell_type": "code",
   "execution_count": 4,
   "id": "a5a6a136",
   "metadata": {},
   "outputs": [],
   "source": [
    "def execute_init():\n",
    "    while True:\n",
    "        try:\n",
    "            init()\n",
    "            print(\"init status completed\")\n",
    "            break\n",
    "        except (TimeoutError, CellTimeoutError, ConnectionResetError) as error:\n",
    "            print(f\"Init Error Occured: {error}\")\n",
    "            print(\"Let me sleep for 10 seconds\")\n",
    "            print(\"ZZzzzz...\")\n",
    "            time.sleep(10)\n",
    "            print(\"Was a nice sleep, now let me continue...\")\n",
    "            pass\n",
    "    return 0"
   ]
  },
  {
   "cell_type": "code",
   "execution_count": 5,
   "id": "bd4bb7b0",
   "metadata": {},
   "outputs": [],
   "source": [
    "def GT_temp_df(start_date, end_date, geo_code, geo_name):\n",
    "    temp_df = pd.DataFrame()\n",
    "    while len(temp_df) == 0:\n",
    "        try:\n",
    "            pytrends.build_payload(mvt_keyword, cat=0, timeframe=f\"{start_date} {end_date}\", geo = geo_code)\n",
    "            temp_df = pytrends.interest_over_time()\n",
    "\n",
    "        except (ResponseError, Timeout):\n",
    "            try:\n",
    "                !pip install pytrends --upgrade\n",
    "                pass\n",
    "\n",
    "            except (ResponseError, Timeout) as error:\n",
    "                print(f\"GT Error Occured: {error}\")\n",
    "                print(\"Let me sleep for 1 day\")\n",
    "                print(\"ZZzzzz...\")\n",
    "                time.sleep(random.randint(60*60*24, 60*60*24+30,))\n",
    "                print(\"Was a nice sleep, now let me continue...\")\n",
    "\n",
    "    print(f\"Obtaining GT MVT from {start_date} to {end_date} in {geo_name} metro area\")\n",
    "    time.sleep(random.randint(120, 130))\n",
    "    temp_df = column_name_to_mvt_and_remove_zero_values(temp_df, geo_name)\n",
    "    return temp_df"
   ]
  },
  {
   "cell_type": "code",
   "execution_count": 6,
   "id": "7575af2b",
   "metadata": {},
   "outputs": [],
   "source": [
    "def combine_df_and_temp_df_and_rescale_by_overlap_factors(df, temp_df):\n",
    "    df = pd.concat([df, temp_df.iloc[:, 0]], axis = 1)\n",
    "    if len(df.columns) > 1:\n",
    "        factor_data = df.dropna(how = \"any\")\n",
    "        factor_divided = factor_data.iloc[:, 0]/factor_data.iloc[:, 1]\n",
    "        adjusted_factor = factor_divided.mean()\n",
    "        df.iloc[:,1] = df.iloc[:,1]*adjusted_factor\n",
    "        df = df.mean(axis = 1)\n",
    "    return df"
   ]
  },
  {
   "cell_type": "code",
   "execution_count": 7,
   "id": "0f3e3a90",
   "metadata": {},
   "outputs": [],
   "source": [
    "#basic pytrend settings\n",
    "pytrends = TrendReq()"
   ]
  },
  {
   "cell_type": "code",
   "execution_count": 8,
   "id": "7e8795a5",
   "metadata": {},
   "outputs": [
    {
     "data": {
      "text/plain": [
       "'\\nkw_list = [\"car stolen+find stolen car+report police stolen car+insurance car stolen-dream-check\",\\n    \"I raped+raped me+raped report police+being raped+been raped - dream - kobe - trump - porn\",\\n    \"my stolen+find my stolen+theft report police+someone stolen my - car - heart - dream - number\",\\n    \"burglary+home burglarized+my house broken into+my home broken into+burglary report police - dream\",\\n    \"my committed a crime+police arrested my+my arrested+my in jail+my in prison - arrested development\",\\n    \"I hate family+parents hate me+I hate my parents+I hate school+I hate teacher+I hate dad+I hate mom\"]\\n'"
      ]
     },
     "execution_count": 8,
     "metadata": {},
     "output_type": "execute_result"
    }
   ],
   "source": [
    "'''\n",
    "kw_list = [\"car stolen+find stolen car+report police stolen car+insurance car stolen-dream-check\",\n",
    "    \"I raped+raped me+raped report police+being raped+been raped - dream - kobe - trump - porn\",\n",
    "    \"my stolen+find my stolen+theft report police+someone stolen my - car - heart - dream - number\",\n",
    "    \"burglary+home burglarized+my house broken into+my home broken into+burglary report police - dream\",\n",
    "    \"my committed a crime+police arrested my+my arrested+my in jail+my in prison - arrested development\",\n",
    "    \"I hate family+parents hate me+I hate my parents+I hate school+I hate teacher+I hate dad+I hate mom\"]\n",
    "'''\n",
    "#years = [i for i in range(2010, 2016)]\n",
    "#print(years)\n",
    "#months = [i for i in range(1, 13, 3)] \n",
    "#print(months)"
   ]
  },
  {
   "cell_type": "markdown",
   "id": "30921c43",
   "metadata": {},
   "source": [
    "### GT Keywords"
   ]
  },
  {
   "cell_type": "code",
   "execution_count": 9,
   "id": "2105a9d7",
   "metadata": {},
   "outputs": [],
   "source": [
    "mvt_keyword = [\"car stolen+find stolen car+report police stolen car+insurance car stolen-dream-check\"] "
   ]
  },
  {
   "cell_type": "markdown",
   "id": "8df312d7",
   "metadata": {},
   "source": [
    "### Geo Location and Geo Codes"
   ]
  },
  {
   "cell_type": "code",
   "execution_count": 10,
   "id": "8273e0bf",
   "metadata": {},
   "outputs": [],
   "source": [
    "region_code_dict = {\n",
    "\n",
    "    \"US-NY-501\":\"New York NY\",\n",
    "    \"US-CA-807\":\"San Francisco-Oakland-San Jose CA\",\n",
    "    \"US-CA-803\":\"Los Angeles CA\",\n",
    "    \"US-CA-825\":\"San Diego CA\", \n",
    "    \"US-CA-807\":\"Sacramento-Stockton-Modesto CA\",\n",
    "    \"US-AZ-753\":\"Phoenix AZ\",\n",
    "    \"US-MI-505\":\"Detroit MI\",\n",
    "    \"US-NV-839\":\"Las Vegas NV\",\n",
    "    \"US-WA-819\":\"Seattle-Tacoma WA\",\n",
    "    \"US-CO-751\":\"Denver CO\",\n",
    "    \"US-PA-504\":\"Philadelphia PA\",\n",
    "    \"US-GA-524\":\"Atlanta GA\",\n",
    "    \"US-IN-602\":\"Chicago IL\",\n",
    "    \"US-NH-506\":\"Boston MA-Manchester NH\",\n",
    "    \"CA-ON\":\"Ontario\"\n",
    "                    }\n"
   ]
  },
  {
   "cell_type": "markdown",
   "id": "165194c8",
   "metadata": {},
   "source": [
    "### Dates (From, To)"
   ]
  },
  {
   "cell_type": "code",
   "execution_count": 11,
   "id": "5a40f85c",
   "metadata": {},
   "outputs": [],
   "source": [
    "From  = [\"2015-01-01\", \n",
    "         \"2015-07-01\", \n",
    "         \"2016-01-01\", \n",
    "         \"2016-07-01\",\n",
    "         \"2017-01-01\", \n",
    "         \"2017-07-01\",\n",
    "         \"2018-01-01\", \n",
    "         \"2018-07-01\",\n",
    "         \"2019-01-01\", \n",
    "         \"2019-07-01\",\n",
    "         \"2020-01-01\",\n",
    "         \"2020-07-01\",\n",
    "         \"2021-01-01\",\n",
    "         \"2021-07-01\"]\n",
    "\n",
    "To = [\"2015-07-31\", \n",
    "      \"2016-01-31\", \n",
    "      \"2016-07-31\", \n",
    "      \"2017-01-31\", \n",
    "      \"2017-07-31\",\n",
    "      \"2018-01-31\", \n",
    "      \"2018-07-31\",\n",
    "      \"2019-01-31\", \n",
    "      \"2019-07-31\",\n",
    "      \"2020-01-31\",\n",
    "      \"2020-07-31\",\n",
    "      \"2021-01-31\",\n",
    "      \"2021-07-31\",\n",
    "      \"2022-01-31\"]"
   ]
  },
  {
   "cell_type": "markdown",
   "id": "a6f40044",
   "metadata": {},
   "source": [
    "## Execute Pytrends to Pull Daily Data from Google Trends"
   ]
  },
  {
   "cell_type": "code",
   "execution_count": 12,
   "id": "48a26924",
   "metadata": {},
   "outputs": [
    {
     "name": "stdout",
     "output_type": "stream",
     "text": [
      "Obtaining GT MVT from 2015-01-01 to 2015-07-31 in New York NY metro area\n"
     ]
    },
    {
     "ename": "KeyboardInterrupt",
     "evalue": "",
     "output_type": "error",
     "traceback": [
      "\u001b[1;31m---------------------------------------------------------------------------\u001b[0m",
      "\u001b[1;31mKeyboardInterrupt\u001b[0m                         Traceback (most recent call last)",
      "\u001b[1;32m~\\AppData\\Local\\Temp\\ipykernel_5080\\3091751973.py\u001b[0m in \u001b[0;36m<module>\u001b[1;34m\u001b[0m\n\u001b[0;32m      6\u001b[0m         \u001b[1;32mfor\u001b[0m \u001b[0mstart_date\u001b[0m\u001b[1;33m,\u001b[0m \u001b[0mend_date\u001b[0m \u001b[1;32min\u001b[0m \u001b[0mzip\u001b[0m\u001b[1;33m(\u001b[0m\u001b[0mFrom\u001b[0m\u001b[1;33m,\u001b[0m \u001b[0mTo\u001b[0m\u001b[1;33m)\u001b[0m\u001b[1;33m:\u001b[0m\u001b[1;33m\u001b[0m\u001b[1;33m\u001b[0m\u001b[0m\n\u001b[0;32m      7\u001b[0m             \u001b[1;31m#Get daily estimates with adjusted factors [mean(old/new) * new]\u001b[0m\u001b[1;33m\u001b[0m\u001b[1;33m\u001b[0m\u001b[0m\n\u001b[1;32m----> 8\u001b[1;33m             \u001b[0mtemp_df\u001b[0m \u001b[1;33m=\u001b[0m \u001b[0mGT_temp_df\u001b[0m\u001b[1;33m(\u001b[0m\u001b[0mstart_date\u001b[0m\u001b[1;33m,\u001b[0m \u001b[0mend_date\u001b[0m\u001b[1;33m,\u001b[0m \u001b[0mgeo_code\u001b[0m\u001b[1;33m,\u001b[0m \u001b[0mgeo_name\u001b[0m\u001b[1;33m)\u001b[0m\u001b[1;33m\u001b[0m\u001b[1;33m\u001b[0m\u001b[0m\n\u001b[0m\u001b[0;32m      9\u001b[0m             \u001b[0mdf\u001b[0m \u001b[1;33m=\u001b[0m \u001b[0mcombine_df_and_temp_df_and_rescale_by_overlap_factors\u001b[0m\u001b[1;33m(\u001b[0m\u001b[0mdf\u001b[0m\u001b[1;33m,\u001b[0m \u001b[0mtemp_df\u001b[0m\u001b[1;33m)\u001b[0m\u001b[1;33m\u001b[0m\u001b[1;33m\u001b[0m\u001b[0m\n\u001b[0;32m     10\u001b[0m \u001b[1;33m\u001b[0m\u001b[0m\n",
      "\u001b[1;32m~\\AppData\\Local\\Temp\\ipykernel_5080\\2619051670.py\u001b[0m in \u001b[0;36mGT_temp_df\u001b[1;34m(start_date, end_date, geo_code, geo_name)\u001b[0m\n\u001b[0;32m     19\u001b[0m \u001b[1;33m\u001b[0m\u001b[0m\n\u001b[0;32m     20\u001b[0m     \u001b[0mprint\u001b[0m\u001b[1;33m(\u001b[0m\u001b[1;34mf\"Obtaining GT MVT from {start_date} to {end_date} in {geo_name} metro area\"\u001b[0m\u001b[1;33m)\u001b[0m\u001b[1;33m\u001b[0m\u001b[1;33m\u001b[0m\u001b[0m\n\u001b[1;32m---> 21\u001b[1;33m     \u001b[0mtime\u001b[0m\u001b[1;33m.\u001b[0m\u001b[0msleep\u001b[0m\u001b[1;33m(\u001b[0m\u001b[0mrandom\u001b[0m\u001b[1;33m.\u001b[0m\u001b[0mrandint\u001b[0m\u001b[1;33m(\u001b[0m\u001b[1;36m120\u001b[0m\u001b[1;33m,\u001b[0m \u001b[1;36m130\u001b[0m\u001b[1;33m)\u001b[0m\u001b[1;33m)\u001b[0m\u001b[1;33m\u001b[0m\u001b[1;33m\u001b[0m\u001b[0m\n\u001b[0m\u001b[0;32m     22\u001b[0m     \u001b[0mtemp_df\u001b[0m \u001b[1;33m=\u001b[0m \u001b[0mcolumn_name_to_mvt_and_remove_zero_values\u001b[0m\u001b[1;33m(\u001b[0m\u001b[0mtemp_df\u001b[0m\u001b[1;33m,\u001b[0m \u001b[0mgeo_name\u001b[0m\u001b[1;33m)\u001b[0m\u001b[1;33m\u001b[0m\u001b[1;33m\u001b[0m\u001b[0m\n\u001b[0;32m     23\u001b[0m     \u001b[1;32mreturn\u001b[0m \u001b[0mtemp_df\u001b[0m\u001b[1;33m\u001b[0m\u001b[1;33m\u001b[0m\u001b[0m\n",
      "\u001b[1;31mKeyboardInterrupt\u001b[0m: "
     ]
    }
   ],
   "source": [
    "\n",
    "#Get 100 times daily GT MVT data per city\n",
    "for times in range(0, 100):\n",
    "    for geo_code, geo_name in zip(region_code_dict.keys(), region_code_dict.values()):\n",
    "        df = pd.DataFrame()\n",
    "\n",
    "        for start_date, end_date in zip(From, To):\n",
    "            #Get daily estimates with adjusted factors [mean(old/new) * new]\n",
    "            temp_df = GT_temp_df(start_date, end_date, geo_code, geo_name)\n",
    "            df = combine_df_and_temp_df_and_rescale_by_overlap_factors(df, temp_df)\n",
    "\n",
    "        df.name = f\"MVT_GT_{geo_name}\"\n",
    "        df.to_csv(f\"{geo_name}_daily_{start_date}_{end_date}_{pd.Timestamp.now().strftime('%Y%m%d_%H_%M')}.csv\")\n",
    "        print(f\"{geo_name}_daily_{start_date}_{end_date}_{pd.Timestamp.now().strftime('%Y%m%d_%H_%M')} file saved\")"
   ]
  },
  {
   "cell_type": "code",
   "execution_count": null,
   "id": "015e589e",
   "metadata": {},
   "outputs": [],
   "source": [
    "test.plot(figsize=(20, 12),  kind ='line')"
   ]
  },
  {
   "cell_type": "code",
   "execution_count": null,
   "id": "edc81da1",
   "metadata": {},
   "outputs": [],
   "source": [
    "[print(i/25*23) for i in test2[\"car stolen+find stolen car+report police stolen car+insurance car stolen-dream-check\"]]"
   ]
  },
  {
   "cell_type": "code",
   "execution_count": null,
   "id": "ffdf2371",
   "metadata": {},
   "outputs": [],
   "source": [
    "kw_list=['Facebook', 'Apple', 'Amazon', 'Netflix', 'Google']\n",
    "pytrend = TrendReq()\n",
    "#search interest per region\n",
    "#run model for keywords (can also be competitors)\n",
    "pytrend.build_payload(kw_list, timeframe='today 1-m')\n",
    "\n",
    "# Interest by Region\n",
    "regiondf = pytrend.interest_by_region()\n",
    "#looking at rows where all values are not equal to 0\n",
    "regiondf = regiondf[(regiondf != 0).all(1)]\n",
    "\n",
    "#drop all rows that have null values in all columns\n",
    "regiondf.dropna(how='all',axis=0, inplace=True)\n",
    "\n",
    "#visualise\n",
    "regiondf.plot(figsize=(20, 12), y=kw_list, kind ='bar')"
   ]
  },
  {
   "cell_type": "code",
   "execution_count": null,
   "id": "ecad1d3c",
   "metadata": {},
   "outputs": [],
   "source": [
    "historicaldf = pytrend.get_historical_interest(['Facebook', 'Apple', 'Amazon', 'Netflix', 'Google'], \n",
    "                                               year_start=2020, month_start=1, day_start=1, hour_start=0, \n",
    "                                               year_end=2020, month_end=12, day_end=31, hour_end=0, \n",
    "                                               cat=0, geo='en-US', gprop='', sleep=0)\n",
    "\n",
    "#visualise\n",
    "#plot a timeseries chart\n",
    "historicaldf.plot(figsize=(20, 12))\n",
    "\n",
    "#plot seperate graphs, using theprovided keywords\n",
    "historicaldf.plot(subplots=True, figsize=(20, 12))"
   ]
  },
  {
   "cell_type": "code",
   "execution_count": null,
   "id": "dfd89f89",
   "metadata": {},
   "outputs": [],
   "source": [
    "def gt_func(start_date_list, end_date_list, resolution, sample_size, path):\n",
    "#get monthly GT data\n",
    "    import inflect\n",
    "    #give ordinal names to numbers\n",
    "    p = inflect.engine()\n",
    "\n",
    "    for t in range(sample_size): #sample from GT 100 times\n",
    "        #time.sleep(random.randint(21600,21668)) # 6 hrs\n",
    "        print(f\"The {p.ordinal(t+1)} pull from GT\")\n",
    "        qt_list = [\"Q1\",\"Q2\",\"Q3\",\"Q4\"]\n",
    "        count = 0\n",
    "        for i, j in zip(start_date_list, end_date_list):\n",
    "            df = pd.DataFrame()\n",
    "            #Q1 - Q4\n",
    "            if count == 4:\n",
    "                count = 0\n",
    "            for k in kw_list:\n",
    "                #q = the name of the quarter\n",
    "                q = qt_list[count]\n",
    "                try:\n",
    "                    pytrends.build_payload(k, cat=0, timeframe=f'{i.strftime(\"%Y-%m-%d\")} {j.strftime(\"%Y-%m-%d\")}',  geo='US', gprop='')\n",
    "                    df = pd.concat([df, pytrends.interest_by_region(resolution=\"DMA\", inc_low_vol = False, inc_geo_code = False)], axis = 1)\n",
    "                    time.sleep(random.randint(120, 130))\n",
    "\n",
    "                except (Timeout, ResponseError) as e:\n",
    "                        print(f'!!{i.strftime(\"%Y-%m-%d\")} {j.strftime(\"%Y-%m-%d\")}!! ReadTimeoutError')\n",
    "                        print(f\"Whoops! ReadTimeoutError, the {p.ordinal(t+1)} pull aborted, now we take a rest\")\n",
    "                        print(dt.datetime.now().strftime(\"%Y/%m/%d_%H:%M:%S\"))\n",
    "                        time.sleep(random.randint(86668, 86888)) # 24 hrs\n",
    "                        print(f\"Rest enough, now we continue!\")\n",
    "\n",
    "                        #continue working\n",
    "                        pytrends.build_payload(k, cat=0, timeframe=f'{i.strftime(\"%Y-%m-%d\")} {j.strftime(\"%Y-%m-%d\")}',  geo='US', gprop='')\n",
    "                        df = pd.concat([df, pytrends.interest_by_region(resolution=\"DMA\", inc_low_vol=False, inc_geo_code=False)], axis = 1)\n",
    "                        time.sleep(random.randint(120, 130))\n",
    "\n",
    "            df.columns = [f\"MVT_{i.strftime('%Y')}_{q}\", \n",
    "                          f\"rape_{i.strftime('%Y')}_{q}\", \n",
    "                          f\"larceny_{i.strftime('%Y')}_{q}\", \n",
    "                          f\"burglary_{i.strftime('%Y')}_{q}\", \n",
    "                          f\"known_deliq_{i.strftime('%Y')}_{q}\", \n",
    "                          f\"low_social_cont_{i.strftime('%Y')}_{q}\"]\n",
    "            df.to_csv(f'{path}gt_crime_{i.strftime(\"%Y\")}_{q}_{dt.datetime.now().strftime(\"%Y%m%d_%H-%M-%S\")}.csv')\n",
    "            count += 1\n",
    "        print(f\"The {p.ordinal(t+1)} pull from GT Done!!\")\n",
    "        print(f'Time finished: {dt.datetime.now().strftime(\"%Y/%m/%d, %H:%M\")}')\n",
    "        time.sleep(random.randint(10800,10868)) # 3 hrs\n",
    "\n",
    "\n",
    "    print(f\"Congratulations, Well Done!\")"
   ]
  }
 ],
 "metadata": {
  "kernelspec": {
   "display_name": "Python 3 (ipykernel)",
   "language": "python",
   "name": "python3"
  },
  "language_info": {
   "codemirror_mode": {
    "name": "ipython",
    "version": 3
   },
   "file_extension": ".py",
   "mimetype": "text/x-python",
   "name": "python",
   "nbconvert_exporter": "python",
   "pygments_lexer": "ipython3",
   "version": "3.9.12"
  }
 },
 "nbformat": 4,
 "nbformat_minor": 5
}
